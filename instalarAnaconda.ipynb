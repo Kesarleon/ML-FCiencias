{
 "cells": [
  {
   "cell_type": "code",
   "execution_count": 6,
   "metadata": {},
   "outputs": [],
   "source": [
    "from IPython.core.display import display, HTML"
   ]
  },
  {
   "cell_type": "markdown",
   "metadata": {},
   "source": [
    "## Instalación de Anaconda \n",
    "\n",
    "1. Primero vaya al siguiente sitio \n",
    " <a href='https://www.anaconda.com/download/' target='_blank'>Descarga Anaconda</a>\n",
    "2. Presionar el icono de su sistema operativo \n",
    "3. Descargar la versión 3.6, de 64 o 32 dependiendo de la arquitectura de su computadora\n",
    "4. Abrir el instalador y siguiente-siguiente-siguiente si usa WINDOWS. En mac os, jalar el iconito a apalicaciones como de costumbre.\n",
    "5. En linux se descargara un .sh por lo que tendra que situarse en la carpeta y darle permisos de ejecución con\n",
    "$\\text{chmod u+x  nombredelInstalador.sh}$ y luego\n",
    "$\\text{./nombredelInstalador.sh}$\n",
    "6. Si ya se instaló presionar el icono de jupyter notebook en windows y UNIX/LINUX tendra que abrir la terminal y situarse en la el directorio de su prefencia y poner \n",
    "$jupyter$ $notebook$ "
   ]
  },
  {
   "cell_type": "markdown",
   "metadata": {},
   "source": [
    "Si todo sale bien debera observar:"
   ]
  },
  {
   "cell_type": "markdown",
   "metadata": {},
   "source": [
    "<img src=\"jupyter.png\">"
   ]
  },
  {
   "cell_type": "markdown",
   "metadata": {},
   "source": [
    "PD. Puede usar R en el mismo IDE use anaconda navigator para instalarlo, pero si no logra instalar un paquete desde el IDE,será un desmadre arreglarlo."
   ]
  }
 ],
 "metadata": {
  "kernelspec": {
   "display_name": "Python 3",
   "language": "python",
   "name": "python3"
  },
  "language_info": {
   "codemirror_mode": {
    "name": "ipython",
    "version": 3
   },
   "file_extension": ".py",
   "mimetype": "text/x-python",
   "name": "python",
   "nbconvert_exporter": "python",
   "pygments_lexer": "ipython3",
   "version": "3.6.5"
  }
 },
 "nbformat": 4,
 "nbformat_minor": 2
}
